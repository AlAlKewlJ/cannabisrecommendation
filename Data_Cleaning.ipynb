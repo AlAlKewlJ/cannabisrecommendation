{
 "cells": [
  {
   "cell_type": "code",
   "execution_count": 1,
   "metadata": {},
   "outputs": [],
   "source": [
    "import numpy as np\n",
    "import pandas as pd\n",
    "import seaborn as sn "
   ]
  },
  {
   "cell_type": "code",
   "execution_count": 2,
   "metadata": {},
   "outputs": [],
   "source": [
    "df = pd.read_csv('Cannabis_Strains_Features.csv')"
   ]
  },
  {
   "cell_type": "markdown",
   "metadata": {},
   "source": [
    "## Initial Data Exploration"
   ]
  },
  {
   "cell_type": "code",
   "execution_count": 3,
   "metadata": {},
   "outputs": [
    {
     "data": {
      "text/html": [
       "<div>\n",
       "<style scoped>\n",
       "    .dataframe tbody tr th:only-of-type {\n",
       "        vertical-align: middle;\n",
       "    }\n",
       "\n",
       "    .dataframe tbody tr th {\n",
       "        vertical-align: top;\n",
       "    }\n",
       "\n",
       "    .dataframe thead th {\n",
       "        text-align: right;\n",
       "    }\n",
       "</style>\n",
       "<table border=\"1\" class=\"dataframe\">\n",
       "  <thead>\n",
       "    <tr style=\"text-align: right;\">\n",
       "      <th></th>\n",
       "      <th>Strain</th>\n",
       "      <th>Type</th>\n",
       "      <th>Rating</th>\n",
       "      <th>Effects</th>\n",
       "      <th>Flavor</th>\n",
       "      <th>Description</th>\n",
       "    </tr>\n",
       "  </thead>\n",
       "  <tbody>\n",
       "    <tr>\n",
       "      <th>0</th>\n",
       "      <td>100-Og</td>\n",
       "      <td>hybrid</td>\n",
       "      <td>4.0</td>\n",
       "      <td>Creative,Energetic,Tingly,Euphoric,Relaxed</td>\n",
       "      <td>Earthy,Sweet,Citrus</td>\n",
       "      <td>$100 OG is a 50/50 hybrid strain that packs a ...</td>\n",
       "    </tr>\n",
       "    <tr>\n",
       "      <th>1</th>\n",
       "      <td>98-White-Widow</td>\n",
       "      <td>hybrid</td>\n",
       "      <td>4.7</td>\n",
       "      <td>Relaxed,Aroused,Creative,Happy,Energetic</td>\n",
       "      <td>Flowery,Violet,Diesel</td>\n",
       "      <td>The ‘98 Aloha White Widow is an especially pot...</td>\n",
       "    </tr>\n",
       "    <tr>\n",
       "      <th>2</th>\n",
       "      <td>1024</td>\n",
       "      <td>sativa</td>\n",
       "      <td>4.4</td>\n",
       "      <td>Uplifted,Happy,Relaxed,Energetic,Creative</td>\n",
       "      <td>Spicy/Herbal,Sage,Woody</td>\n",
       "      <td>1024 is a sativa-dominant hybrid bred in Spain...</td>\n",
       "    </tr>\n",
       "    <tr>\n",
       "      <th>3</th>\n",
       "      <td>13-Dawgs</td>\n",
       "      <td>hybrid</td>\n",
       "      <td>4.2</td>\n",
       "      <td>Tingly,Creative,Hungry,Relaxed,Uplifted</td>\n",
       "      <td>Apricot,Citrus,Grapefruit</td>\n",
       "      <td>13 Dawgs is a hybrid of G13 and Chemdawg genet...</td>\n",
       "    </tr>\n",
       "    <tr>\n",
       "      <th>4</th>\n",
       "      <td>24K-Gold</td>\n",
       "      <td>hybrid</td>\n",
       "      <td>4.6</td>\n",
       "      <td>Happy,Relaxed,Euphoric,Uplifted,Talkative</td>\n",
       "      <td>Citrus,Earthy,Orange</td>\n",
       "      <td>Also known as Kosher Tangie, 24k Gold is a 60%...</td>\n",
       "    </tr>\n",
       "  </tbody>\n",
       "</table>\n",
       "</div>"
      ],
      "text/plain": [
       "           Strain    Type  Rating                                     Effects  \\\n",
       "0          100-Og  hybrid     4.0  Creative,Energetic,Tingly,Euphoric,Relaxed   \n",
       "1  98-White-Widow  hybrid     4.7    Relaxed,Aroused,Creative,Happy,Energetic   \n",
       "2            1024  sativa     4.4   Uplifted,Happy,Relaxed,Energetic,Creative   \n",
       "3        13-Dawgs  hybrid     4.2     Tingly,Creative,Hungry,Relaxed,Uplifted   \n",
       "4        24K-Gold  hybrid     4.6   Happy,Relaxed,Euphoric,Uplifted,Talkative   \n",
       "\n",
       "                      Flavor  \\\n",
       "0        Earthy,Sweet,Citrus   \n",
       "1      Flowery,Violet,Diesel   \n",
       "2    Spicy/Herbal,Sage,Woody   \n",
       "3  Apricot,Citrus,Grapefruit   \n",
       "4       Citrus,Earthy,Orange   \n",
       "\n",
       "                                         Description  \n",
       "0  $100 OG is a 50/50 hybrid strain that packs a ...  \n",
       "1  The ‘98 Aloha White Widow is an especially pot...  \n",
       "2  1024 is a sativa-dominant hybrid bred in Spain...  \n",
       "3  13 Dawgs is a hybrid of G13 and Chemdawg genet...  \n",
       "4  Also known as Kosher Tangie, 24k Gold is a 60%...  "
      ]
     },
     "execution_count": 3,
     "metadata": {},
     "output_type": "execute_result"
    }
   ],
   "source": [
    "df.head()"
   ]
  },
  {
   "cell_type": "code",
   "execution_count": 4,
   "metadata": {},
   "outputs": [
    {
     "data": {
      "text/plain": [
       "(2351, 6)"
      ]
     },
     "execution_count": 4,
     "metadata": {},
     "output_type": "execute_result"
    }
   ],
   "source": [
    "df.shape"
   ]
  },
  {
   "cell_type": "markdown",
   "metadata": {},
   "source": [
    "## Flavor"
   ]
  },
  {
   "cell_type": "code",
   "execution_count": 5,
   "metadata": {},
   "outputs": [],
   "source": [
    "df_flavor = df.Flavor.str.split('[,]').apply(pd.Series)\n",
    "df_flavor = df_flavor.rename(columns={0: 'flavor_1', 1: 'flavor_2', 2: 'flavor_3', 3: 'flavor_4'})\n",
    "df = pd.concat([df, df_flavor], axis=1)\n",
    "\n",
    "#Replaced flavor names\n",
    "df['flavor_1'] = df['flavor_1'].replace(['Earthy\\n', 'Diesel\\n', 'Bubblegum\\n', 'Vanilla\\n', 'Minty', 'Grapes'],\n",
    "                                        ['Earthy', 'Diesel', 'Bubblegum', 'Vanilla', 'Mint', 'Grape'])\n",
    "df['flavor_2'] = df['flavor_2'].replace(['Minty', 'Citrus\\n', 'Earthy\\n', 'Berry\\n', ' Pungent', ' Sweet', 'Sweet\\n', ' Berry', 'Bluberry', \n",
    "                                        'Fruit'],\n",
    "                                        ['Mint', 'Citrus','Earthy', 'Berry', 'Pungent', 'Sweet', 'Sweet', 'Berry', 'Blueberry', 'Fruity'])\n",
    "df['flavor_3'] = df['flavor_3'].replace(['Minty', 'Earthy\\n', ' Spicy/Herbal', 'Sweet\\n', ' Earthy', 'Citrus\\n', 'Fruit'],\n",
    "                                        ['Mint', 'Earthy', 'Spicy/Herbal', 'Sweet', 'Earthy', 'Citrus', 'Fruity'])\n",
    "df['flavor_4'] = df['flavor_4'].replace(['Fruit'],\n",
    "                                       ['Fruity'])\n",
    "\n",
    "#Dropping Flavor columns because Ive already created dummy variables for flavors\n",
    "df.drop('Flavor', axis=1, inplace=True)\n",
    "\n",
    "#Creating dummy variables of the flavor category\n",
    "df = pd.get_dummies(data=df, columns= ['flavor_1', 'flavor_2', 'flavor_3', 'flavor_3', 'flavor_4'])"
   ]
  },
  {
   "cell_type": "code",
   "execution_count": 6,
   "metadata": {},
   "outputs": [
    {
     "data": {
      "text/html": [
       "<div>\n",
       "<style scoped>\n",
       "    .dataframe tbody tr th:only-of-type {\n",
       "        vertical-align: middle;\n",
       "    }\n",
       "\n",
       "    .dataframe tbody tr th {\n",
       "        vertical-align: top;\n",
       "    }\n",
       "\n",
       "    .dataframe thead th {\n",
       "        text-align: right;\n",
       "    }\n",
       "</style>\n",
       "<table border=\"1\" class=\"dataframe\">\n",
       "  <thead>\n",
       "    <tr style=\"text-align: right;\">\n",
       "      <th></th>\n",
       "      <th>Strain</th>\n",
       "      <th>Type</th>\n",
       "      <th>Rating</th>\n",
       "      <th>Effects</th>\n",
       "      <th>Description</th>\n",
       "      <th>flavor_1_Ammonia</th>\n",
       "      <th>flavor_1_Apple</th>\n",
       "      <th>flavor_1_Apricot</th>\n",
       "      <th>flavor_1_Berry</th>\n",
       "      <th>flavor_1_Blue</th>\n",
       "      <th>...</th>\n",
       "      <th>flavor_4_Flowery</th>\n",
       "      <th>flavor_4_Fruity</th>\n",
       "      <th>flavor_4_Grape</th>\n",
       "      <th>flavor_4_Lemon</th>\n",
       "      <th>flavor_4_Orange</th>\n",
       "      <th>flavor_4_Pine</th>\n",
       "      <th>flavor_4_Pineapple</th>\n",
       "      <th>flavor_4_Pungent</th>\n",
       "      <th>flavor_4_Spicy/Herbal</th>\n",
       "      <th>flavor_4_Sweet</th>\n",
       "    </tr>\n",
       "  </thead>\n",
       "  <tbody>\n",
       "    <tr>\n",
       "      <th>0</th>\n",
       "      <td>100-Og</td>\n",
       "      <td>hybrid</td>\n",
       "      <td>4.0</td>\n",
       "      <td>Creative,Energetic,Tingly,Euphoric,Relaxed</td>\n",
       "      <td>$100 OG is a 50/50 hybrid strain that packs a ...</td>\n",
       "      <td>0</td>\n",
       "      <td>0</td>\n",
       "      <td>0</td>\n",
       "      <td>0</td>\n",
       "      <td>0</td>\n",
       "      <td>...</td>\n",
       "      <td>0</td>\n",
       "      <td>0</td>\n",
       "      <td>0</td>\n",
       "      <td>0</td>\n",
       "      <td>0</td>\n",
       "      <td>0</td>\n",
       "      <td>0</td>\n",
       "      <td>0</td>\n",
       "      <td>0</td>\n",
       "      <td>0</td>\n",
       "    </tr>\n",
       "    <tr>\n",
       "      <th>1</th>\n",
       "      <td>98-White-Widow</td>\n",
       "      <td>hybrid</td>\n",
       "      <td>4.7</td>\n",
       "      <td>Relaxed,Aroused,Creative,Happy,Energetic</td>\n",
       "      <td>The ‘98 Aloha White Widow is an especially pot...</td>\n",
       "      <td>0</td>\n",
       "      <td>0</td>\n",
       "      <td>0</td>\n",
       "      <td>0</td>\n",
       "      <td>0</td>\n",
       "      <td>...</td>\n",
       "      <td>0</td>\n",
       "      <td>0</td>\n",
       "      <td>0</td>\n",
       "      <td>0</td>\n",
       "      <td>0</td>\n",
       "      <td>0</td>\n",
       "      <td>0</td>\n",
       "      <td>0</td>\n",
       "      <td>0</td>\n",
       "      <td>0</td>\n",
       "    </tr>\n",
       "    <tr>\n",
       "      <th>2</th>\n",
       "      <td>1024</td>\n",
       "      <td>sativa</td>\n",
       "      <td>4.4</td>\n",
       "      <td>Uplifted,Happy,Relaxed,Energetic,Creative</td>\n",
       "      <td>1024 is a sativa-dominant hybrid bred in Spain...</td>\n",
       "      <td>0</td>\n",
       "      <td>0</td>\n",
       "      <td>0</td>\n",
       "      <td>0</td>\n",
       "      <td>0</td>\n",
       "      <td>...</td>\n",
       "      <td>0</td>\n",
       "      <td>0</td>\n",
       "      <td>0</td>\n",
       "      <td>0</td>\n",
       "      <td>0</td>\n",
       "      <td>0</td>\n",
       "      <td>0</td>\n",
       "      <td>0</td>\n",
       "      <td>0</td>\n",
       "      <td>0</td>\n",
       "    </tr>\n",
       "    <tr>\n",
       "      <th>3</th>\n",
       "      <td>13-Dawgs</td>\n",
       "      <td>hybrid</td>\n",
       "      <td>4.2</td>\n",
       "      <td>Tingly,Creative,Hungry,Relaxed,Uplifted</td>\n",
       "      <td>13 Dawgs is a hybrid of G13 and Chemdawg genet...</td>\n",
       "      <td>0</td>\n",
       "      <td>0</td>\n",
       "      <td>1</td>\n",
       "      <td>0</td>\n",
       "      <td>0</td>\n",
       "      <td>...</td>\n",
       "      <td>0</td>\n",
       "      <td>0</td>\n",
       "      <td>0</td>\n",
       "      <td>0</td>\n",
       "      <td>0</td>\n",
       "      <td>0</td>\n",
       "      <td>0</td>\n",
       "      <td>0</td>\n",
       "      <td>0</td>\n",
       "      <td>0</td>\n",
       "    </tr>\n",
       "    <tr>\n",
       "      <th>4</th>\n",
       "      <td>24K-Gold</td>\n",
       "      <td>hybrid</td>\n",
       "      <td>4.6</td>\n",
       "      <td>Happy,Relaxed,Euphoric,Uplifted,Talkative</td>\n",
       "      <td>Also known as Kosher Tangie, 24k Gold is a 60%...</td>\n",
       "      <td>0</td>\n",
       "      <td>0</td>\n",
       "      <td>0</td>\n",
       "      <td>0</td>\n",
       "      <td>0</td>\n",
       "      <td>...</td>\n",
       "      <td>0</td>\n",
       "      <td>0</td>\n",
       "      <td>0</td>\n",
       "      <td>0</td>\n",
       "      <td>0</td>\n",
       "      <td>0</td>\n",
       "      <td>0</td>\n",
       "      <td>0</td>\n",
       "      <td>0</td>\n",
       "      <td>0</td>\n",
       "    </tr>\n",
       "  </tbody>\n",
       "</table>\n",
       "<p>5 rows × 212 columns</p>\n",
       "</div>"
      ],
      "text/plain": [
       "           Strain    Type  Rating                                     Effects  \\\n",
       "0          100-Og  hybrid     4.0  Creative,Energetic,Tingly,Euphoric,Relaxed   \n",
       "1  98-White-Widow  hybrid     4.7    Relaxed,Aroused,Creative,Happy,Energetic   \n",
       "2            1024  sativa     4.4   Uplifted,Happy,Relaxed,Energetic,Creative   \n",
       "3        13-Dawgs  hybrid     4.2     Tingly,Creative,Hungry,Relaxed,Uplifted   \n",
       "4        24K-Gold  hybrid     4.6   Happy,Relaxed,Euphoric,Uplifted,Talkative   \n",
       "\n",
       "                                         Description  flavor_1_Ammonia  \\\n",
       "0  $100 OG is a 50/50 hybrid strain that packs a ...                 0   \n",
       "1  The ‘98 Aloha White Widow is an especially pot...                 0   \n",
       "2  1024 is a sativa-dominant hybrid bred in Spain...                 0   \n",
       "3  13 Dawgs is a hybrid of G13 and Chemdawg genet...                 0   \n",
       "4  Also known as Kosher Tangie, 24k Gold is a 60%...                 0   \n",
       "\n",
       "   flavor_1_Apple  flavor_1_Apricot  flavor_1_Berry  flavor_1_Blue  ...  \\\n",
       "0               0                 0               0              0  ...   \n",
       "1               0                 0               0              0  ...   \n",
       "2               0                 0               0              0  ...   \n",
       "3               0                 1               0              0  ...   \n",
       "4               0                 0               0              0  ...   \n",
       "\n",
       "   flavor_4_Flowery  flavor_4_Fruity  flavor_4_Grape  flavor_4_Lemon  \\\n",
       "0                 0                0               0               0   \n",
       "1                 0                0               0               0   \n",
       "2                 0                0               0               0   \n",
       "3                 0                0               0               0   \n",
       "4                 0                0               0               0   \n",
       "\n",
       "   flavor_4_Orange  flavor_4_Pine  flavor_4_Pineapple  flavor_4_Pungent  \\\n",
       "0                0              0                   0                 0   \n",
       "1                0              0                   0                 0   \n",
       "2                0              0                   0                 0   \n",
       "3                0              0                   0                 0   \n",
       "4                0              0                   0                 0   \n",
       "\n",
       "   flavor_4_Spicy/Herbal  flavor_4_Sweet  \n",
       "0                      0               0  \n",
       "1                      0               0  \n",
       "2                      0               0  \n",
       "3                      0               0  \n",
       "4                      0               0  \n",
       "\n",
       "[5 rows x 212 columns]"
      ]
     },
     "execution_count": 6,
     "metadata": {},
     "output_type": "execute_result"
    }
   ],
   "source": [
    "df.head()"
   ]
  },
  {
   "cell_type": "code",
   "execution_count": 7,
   "metadata": {},
   "outputs": [
    {
     "data": {
      "text/plain": [
       "(2351, 212)"
      ]
     },
     "execution_count": 7,
     "metadata": {},
     "output_type": "execute_result"
    }
   ],
   "source": [
    "df.shape"
   ]
  },
  {
   "cell_type": "code",
   "execution_count": 8,
   "metadata": {},
   "outputs": [
    {
     "data": {
      "text/plain": [
       "0      0\n",
       "124    1\n",
       "Name: flavor_1_Ammonia, dtype: uint8"
      ]
     },
     "execution_count": 8,
     "metadata": {},
     "output_type": "execute_result"
    }
   ],
   "source": [
    "df.flavor_1_Ammonia.drop_duplicates()"
   ]
  },
  {
   "cell_type": "code",
   "execution_count": 9,
   "metadata": {},
   "outputs": [
    {
     "data": {
      "text/plain": [
       "0     0\n",
       "16    1\n",
       "Name: flavor_2_Ammonia, dtype: uint8"
      ]
     },
     "execution_count": 9,
     "metadata": {},
     "output_type": "execute_result"
    }
   ],
   "source": [
    "df.flavor_2_Ammonia.drop_duplicates()"
   ]
  },
  {
   "cell_type": "code",
   "execution_count": 10,
   "metadata": {},
   "outputs": [],
   "source": [
    "Ammonia_1 = df['flavor_1_Ammonia']\n",
    "Ammonia_2 = df['flavor_2_Ammonia']\n",
    "Ammonia_3 = df['flavor_2_Ammonia']"
   ]
  },
  {
   "cell_type": "code",
   "execution_count": 11,
   "metadata": {},
   "outputs": [],
   "source": [
    "Ammonia_1 = Ammonia_1.astype(int)\n",
    "Ammonia_2 = Ammonia_2.astype(int)\n",
    "Ammonia_3 = Ammonia_3.astype(int)"
   ]
  },
  {
   "cell_type": "code",
   "execution_count": 12,
   "metadata": {},
   "outputs": [
    {
     "data": {
      "text/plain": [
       "dtype('int64')"
      ]
     },
     "execution_count": 12,
     "metadata": {},
     "output_type": "execute_result"
    }
   ],
   "source": [
    "Ammonia_1.dtype"
   ]
  },
  {
   "cell_type": "code",
   "execution_count": 13,
   "metadata": {},
   "outputs": [
    {
     "data": {
      "text/plain": [
       "dtype('int64')"
      ]
     },
     "execution_count": 13,
     "metadata": {},
     "output_type": "execute_result"
    }
   ],
   "source": [
    "Ammonia_2.dtypes"
   ]
  },
  {
   "cell_type": "code",
   "execution_count": 16,
   "metadata": {},
   "outputs": [
    {
     "data": {
      "text/plain": [
       "0     0\n",
       "16    1\n",
       "Name: flavor_Ammonia, dtype: int64"
      ]
     },
     "execution_count": 16,
     "metadata": {},
     "output_type": "execute_result"
    }
   ],
   "source": [
    "df['flavor_Ammonia'] = Ammonia_1.combine(Ammonia_2, max)\n",
    "\n",
    "df['flavor_Ammonia'].drop_duplicates()"
   ]
  },
  {
   "cell_type": "code",
   "execution_count": 15,
   "metadata": {},
   "outputs": [
    {
     "data": {
      "text/plain": [
       "0     0\n",
       "16    1\n",
       "Name: flavor_Ammonia, dtype: int64"
      ]
     },
     "execution_count": 15,
     "metadata": {},
     "output_type": "execute_result"
    }
   ],
   "source": [
    "df.flavor_Ammonia.drop_duplicates()"
   ]
  },
  {
   "cell_type": "code",
   "execution_count": 69,
   "metadata": {},
   "outputs": [
    {
     "data": {
      "text/plain": [
       "0      0\n",
       "124    1\n",
       "Name: flavor_1_Ammonia, dtype: uint8"
      ]
     },
     "execution_count": 69,
     "metadata": {},
     "output_type": "execute_result"
    }
   ],
   "source": [
    "df['flavor_1_Ammonia'].drop_duplicates()"
   ]
  },
  {
   "cell_type": "code",
   "execution_count": 47,
   "metadata": {},
   "outputs": [
    {
     "name": "stdout",
     "output_type": "stream",
     "text": [
      "0       0\n",
      "1       0\n",
      "2       0\n",
      "3       0\n",
      "4       0\n",
      "       ..\n",
      "2346    0\n",
      "2347    0\n",
      "2348    0\n",
      "2349    0\n",
      "2350    0\n",
      "Name: flavor_2_Ammonia, Length: 2351, dtype: uint8\n"
     ]
    }
   ],
   "source": [
    "print(df['flavor_2_Ammonia'])"
   ]
  },
  {
   "cell_type": "code",
   "execution_count": 16,
   "metadata": {},
   "outputs": [
    {
     "data": {
      "text/plain": [
       "0      0\n",
       "124    1\n",
       "Name: flavor_1_Ammonia, dtype: uint8"
      ]
     },
     "execution_count": 16,
     "metadata": {},
     "output_type": "execute_result"
    }
   ],
   "source": [
    "df.flavor_1_Ammonia.drop_duplicates()"
   ]
  },
  {
   "cell_type": "code",
   "execution_count": 23,
   "metadata": {
    "collapsed": true,
    "jupyter": {
     "outputs_hidden": true,
     "source_hidden": true
    }
   },
   "outputs": [
    {
     "data": {
      "text/plain": [
       "0     0\n",
       "16    1\n",
       "Name: flavor_2_Ammonia, dtype: uint8"
      ]
     },
     "execution_count": 23,
     "metadata": {},
     "output_type": "execute_result"
    }
   ],
   "source": [
    "df.flavor_2_Ammonia.drop_duplicates()"
   ]
  },
  {
   "cell_type": "code",
   "execution_count": 39,
   "metadata": {
    "collapsed": true,
    "jupyter": {
     "outputs_hidden": true,
     "source_hidden": true
    }
   },
   "outputs": [
    {
     "data": {
      "text/html": [
       "<div>\n",
       "<style scoped>\n",
       "    .dataframe tbody tr th:only-of-type {\n",
       "        vertical-align: middle;\n",
       "    }\n",
       "\n",
       "    .dataframe tbody tr th {\n",
       "        vertical-align: top;\n",
       "    }\n",
       "\n",
       "    .dataframe thead th {\n",
       "        text-align: right;\n",
       "    }\n",
       "</style>\n",
       "<table border=\"1\" class=\"dataframe\">\n",
       "  <thead>\n",
       "    <tr style=\"text-align: right;\">\n",
       "      <th></th>\n",
       "      <th>flavor_3_Ammonia</th>\n",
       "      <th>flavor_3_Ammonia</th>\n",
       "    </tr>\n",
       "  </thead>\n",
       "  <tbody>\n",
       "    <tr>\n",
       "      <th>0</th>\n",
       "      <td>0</td>\n",
       "      <td>0</td>\n",
       "    </tr>\n",
       "    <tr>\n",
       "      <th>390</th>\n",
       "      <td>1</td>\n",
       "      <td>1</td>\n",
       "    </tr>\n",
       "  </tbody>\n",
       "</table>\n",
       "</div>"
      ],
      "text/plain": [
       "     flavor_3_Ammonia  flavor_3_Ammonia\n",
       "0                   0                 0\n",
       "390                 1                 1"
      ]
     },
     "execution_count": 39,
     "metadata": {},
     "output_type": "execute_result"
    }
   ],
   "source": [
    "df.flavor_3_Ammonia.drop_duplicates()"
   ]
  },
  {
   "cell_type": "code",
   "execution_count": 8,
   "metadata": {},
   "outputs": [],
   "source": [
    "# 'flavor_1_Ammonia', 'flavor_2_Ammonia', 'flavor_3_Ammonia'\n",
    "# 'flavor_1_Apple', 'flavor_2_Apple', 'flavor_3_Apple'\n",
    "# 'flavor_1_Apricot', flavor_2_Apricot', 'flavor_3_Apricot', 'flavor_4_Apricot'\n",
    "# 'flavor_1_Berry', flavor_2_Berry', 'flavor_3_Berry', 'flavor_4_Berry',\n",
    "# 'flavor_1_Blue', 'flavor_2_Blue', 'flavor_3_Blue'\n",
    "# 'flavor_1_Blueberry','flavor_2_Blueberry', 'flavor_3_Blueberry', 'flavor_4_Blueberry'\n",
    "# 'flavor_1_Bubblegum', \n",
    "# 'flavor_1_Butter', 'flavor_2_Butter', 'flavor_3_Butter'\n",
    "# 'flavor_1_Cheese', 'flavor_2_Cheese', 'flavor_3_Cheese', 'flavor_4_Cheese'\n",
    "# 'flavor_1_Chemical', 'flavor_2_Chemical', 'flavor_3_Chemical', 'flavor_4_Chemical'\n",
    "# 'flavor_2_Chestnut', 'flavor_3_Chestnut'\n",
    "# 'flavor_1_Citrus', 'flavor_2_Citrus', 'flavor_3_Citrus'\n",
    "# 'flavor_1_Coffee', 'flavor_2_Coffee', 'flavor_3_Coffee'\n",
    "# 'flavor_1_Diesel', 'flavor_2_Diesel', 'flavor_3_Diesel'\n",
    "# 'flavor_1_Earthy', 'flavor_2_Earthy', 'flavor_3_Earthy', 'flavor_4_Earthy'\n",
    "# 'flavor_1_Flowery', 'flavor_2_Flowery', 'flavor_3_Flowery', 'flavor_4_Flowery'\n",
    "# 'flavor_1_Fruity', 'flavor_2_Fruity', 'flavor_3_Fruity', 'flavor_4_Fruity'\n",
    "# 'flavor_1_Grape', 'flavor_2_Grape', 'flavor_3_Grape'\n",
    "# 'flavor_1_Grapefruit', 'flavor_2_Grapefruit', 'flavor_3_Grapefruit'\n",
    "# 'flavor_1_Grape', 'flavor_2_Grape', 'flavor_4_Grape' \n",
    "# 'flavor_1_Honey', 'flavor_2_Honey', 'flavor_3_Honey'\n",
    "# 'flavor_1_Lavender', 'flavor_2_Lavender', 'flavor_3_Lavender'\n",
    "# 'flavor_1_Lemon', 'flavor_2_Lemon', 'flavor_3_Lemon', 'flavor_4_Lemon'\n",
    "# 'flavor_1_Lime',  'flavor_2_Lime', 'flavor_3_Lime'\n",
    "# 'flavor_1_Mango', 'flavor_2_Mango', 'flavor_3_Mango'\n",
    "# 'flavor_1_Menthol', 'flavor_2_Menthol', 'flavor_3_Menthol'\n",
    "# 'flavor_1_Mint', 'flavor_2_Mint', 'flavor_3_Mint'\n",
    "# 'flavor_1_None',\n",
    "# 'flavor_1_Nutty', 'flavor_2_Nutty', 'flavor_3_Nutty'\n",
    "# 'flavor_1_Orange', flavor_2_Orange', 'flavor_3_Orange', 'flavor_4_Orange'\n",
    "# 'flavor_1_Peach', 'flavor_3_Peach'\n",
    "# 'flavor_1_Pear', 'flavor_2_Pear', 'flavor_3_Pear'\n",
    "# 'flavor_1_Pepper', 'flavor_2_Pepper', 'flavor_3_Pepper'\n",
    "# 'flavor_1_Pine', 'flavor_2_Pine', 'flavor_3_Pine', 'flavor_4_Pine'\n",
    "# 'flavor_1_Pineapple', 'flavor_2_Pineapple',  'flavor_3_Pineapple', 'flavor_4_Pineapple'\n",
    "# 'flavor_1_Plum',  'flavor_2_Plum'\n",
    "# 'flavor_1_Pungent', 'flavor_2_Pungent', 'flavor_3_Pungent', 'flavor_4_Pungent'\n",
    "# 'flavor_1_Rose',  'flavor_2_Rose', 'flavor_3_Rose'\n",
    "# 'flavor_1_Sage', 'flavor_2_Sage', 'flavor_3_Sage'\n",
    "# 'flavor_1_Skunk', 'flavor_2_Skunk', 'flavor_3_Skunk'\n",
    "# 'flavor_1_Spicy/Herbal', 'flavor_2_Spicy/Herbal', 'flavor_3_Spicy/Herbal', 'flavor_4_Spicy/Herbal'\n",
    "# 'flavor_1_Strawberry', 'flavor_2_Strawberry', 'flavor_3_Strawberry'\n",
    "# 'flavor_1_Sweet', 'flavor_2_Sweet', 'flavor_3_Sweet', 'flavor_4_Sweet'\n",
    "# 'flavor_1_Tar', 'flavor_3_Tar'\n",
    "# 'flavor_1_Tea', 'flavor_2_Tea', 'flavor_3_Tea'\n",
    "# 'flavor_1_Tobacco', 'flavor_2_Tobacco', 'flavor_3_Tobacco'\n",
    "# 'flavor_1_Tree', 'flavor_2_Tree', 'flavor_3_Tree'\n",
    "# 'flavor_3_Tree Fruit'\n",
    "# 'flavor_1_Tropical', 'flavor_2_Tropical', 'flavor_3_Tropical' \n",
    "# 'flavor_1_Vanilla', 'flavor_2_Vanilla', flavor_3_Vanilla'\n",
    "# 'flavor_1_Violet', 'flavor_2_Violet', 'flavor_3_Violet'\n",
    "# 'flavor_1_Woody', 'flavor_2_Woody',  'flavor_3_Woody'\n"
   ]
  },
  {
   "cell_type": "markdown",
   "metadata": {},
   "source": [
    "## Effects"
   ]
  },
  {
   "cell_type": "code",
   "execution_count": 14,
   "metadata": {
    "collapsed": true,
    "jupyter": {
     "outputs_hidden": true,
     "source_hidden": true
    }
   },
   "outputs": [
    {
     "data": {
      "text/html": [
       "<div>\n",
       "<style scoped>\n",
       "    .dataframe tbody tr th:only-of-type {\n",
       "        vertical-align: middle;\n",
       "    }\n",
       "\n",
       "    .dataframe tbody tr th {\n",
       "        vertical-align: top;\n",
       "    }\n",
       "\n",
       "    .dataframe thead th {\n",
       "        text-align: right;\n",
       "    }\n",
       "</style>\n",
       "<table border=\"1\" class=\"dataframe\">\n",
       "  <thead>\n",
       "    <tr style=\"text-align: right;\">\n",
       "      <th></th>\n",
       "      <th>Strain</th>\n",
       "      <th>Type</th>\n",
       "      <th>Rating</th>\n",
       "      <th>Description</th>\n",
       "      <th>flavor_1</th>\n",
       "      <th>flavor_2</th>\n",
       "      <th>flavor_3</th>\n",
       "      <th>flavor_4</th>\n",
       "      <th>effect_1</th>\n",
       "      <th>effect_2</th>\n",
       "      <th>effect_3</th>\n",
       "      <th>effect_4</th>\n",
       "      <th>effect_5</th>\n",
       "    </tr>\n",
       "  </thead>\n",
       "  <tbody>\n",
       "    <tr>\n",
       "      <th>0</th>\n",
       "      <td>100-Og</td>\n",
       "      <td>hybrid</td>\n",
       "      <td>4.0</td>\n",
       "      <td>$100 OG is a 50/50 hybrid strain that packs a ...</td>\n",
       "      <td>Earthy</td>\n",
       "      <td>Sweet</td>\n",
       "      <td>Citrus</td>\n",
       "      <td>NaN</td>\n",
       "      <td>Creative</td>\n",
       "      <td>Energetic</td>\n",
       "      <td>Tingly</td>\n",
       "      <td>Euphoric</td>\n",
       "      <td>Relaxed</td>\n",
       "    </tr>\n",
       "    <tr>\n",
       "      <th>1</th>\n",
       "      <td>98-White-Widow</td>\n",
       "      <td>hybrid</td>\n",
       "      <td>4.7</td>\n",
       "      <td>The ‘98 Aloha White Widow is an especially pot...</td>\n",
       "      <td>Flowery</td>\n",
       "      <td>Violet</td>\n",
       "      <td>Diesel</td>\n",
       "      <td>NaN</td>\n",
       "      <td>Relaxed</td>\n",
       "      <td>Aroused</td>\n",
       "      <td>Creative</td>\n",
       "      <td>Happy</td>\n",
       "      <td>Energetic</td>\n",
       "    </tr>\n",
       "    <tr>\n",
       "      <th>2</th>\n",
       "      <td>1024</td>\n",
       "      <td>sativa</td>\n",
       "      <td>4.4</td>\n",
       "      <td>1024 is a sativa-dominant hybrid bred in Spain...</td>\n",
       "      <td>Spicy/Herbal</td>\n",
       "      <td>Sage</td>\n",
       "      <td>Woody</td>\n",
       "      <td>NaN</td>\n",
       "      <td>Uplifted</td>\n",
       "      <td>Happy</td>\n",
       "      <td>Relaxed</td>\n",
       "      <td>Energetic</td>\n",
       "      <td>Creative</td>\n",
       "    </tr>\n",
       "    <tr>\n",
       "      <th>3</th>\n",
       "      <td>13-Dawgs</td>\n",
       "      <td>hybrid</td>\n",
       "      <td>4.2</td>\n",
       "      <td>13 Dawgs is a hybrid of G13 and Chemdawg genet...</td>\n",
       "      <td>Apricot</td>\n",
       "      <td>Citrus</td>\n",
       "      <td>Grapefruit</td>\n",
       "      <td>NaN</td>\n",
       "      <td>Tingly</td>\n",
       "      <td>Creative</td>\n",
       "      <td>Hungry</td>\n",
       "      <td>Relaxed</td>\n",
       "      <td>Uplifted</td>\n",
       "    </tr>\n",
       "    <tr>\n",
       "      <th>4</th>\n",
       "      <td>24K-Gold</td>\n",
       "      <td>hybrid</td>\n",
       "      <td>4.6</td>\n",
       "      <td>Also known as Kosher Tangie, 24k Gold is a 60%...</td>\n",
       "      <td>Citrus</td>\n",
       "      <td>Earthy</td>\n",
       "      <td>Orange</td>\n",
       "      <td>NaN</td>\n",
       "      <td>Happy</td>\n",
       "      <td>Relaxed</td>\n",
       "      <td>Euphoric</td>\n",
       "      <td>Uplifted</td>\n",
       "      <td>Talkative</td>\n",
       "    </tr>\n",
       "    <tr>\n",
       "      <th>...</th>\n",
       "      <td>...</td>\n",
       "      <td>...</td>\n",
       "      <td>...</td>\n",
       "      <td>...</td>\n",
       "      <td>...</td>\n",
       "      <td>...</td>\n",
       "      <td>...</td>\n",
       "      <td>...</td>\n",
       "      <td>...</td>\n",
       "      <td>...</td>\n",
       "      <td>...</td>\n",
       "      <td>...</td>\n",
       "      <td>...</td>\n",
       "    </tr>\n",
       "    <tr>\n",
       "      <th>2346</th>\n",
       "      <td>Zeus-Og</td>\n",
       "      <td>hybrid</td>\n",
       "      <td>4.7</td>\n",
       "      <td>Zeus OG is a hybrid cross between Pineapple OG...</td>\n",
       "      <td>Earthy</td>\n",
       "      <td>Woody</td>\n",
       "      <td>Pine</td>\n",
       "      <td>NaN</td>\n",
       "      <td>Happy</td>\n",
       "      <td>Uplifted</td>\n",
       "      <td>Relaxed</td>\n",
       "      <td>Euphoric</td>\n",
       "      <td>Energetic</td>\n",
       "    </tr>\n",
       "    <tr>\n",
       "      <th>2347</th>\n",
       "      <td>Zkittlez</td>\n",
       "      <td>indica</td>\n",
       "      <td>4.6</td>\n",
       "      <td>Zkittlez is an indica-dominant mix of Grape Ap...</td>\n",
       "      <td>Sweet</td>\n",
       "      <td>Berry</td>\n",
       "      <td>Grape</td>\n",
       "      <td>NaN</td>\n",
       "      <td>Relaxed</td>\n",
       "      <td>Happy</td>\n",
       "      <td>Euphoric</td>\n",
       "      <td>Uplifted</td>\n",
       "      <td>Sleepy</td>\n",
       "    </tr>\n",
       "    <tr>\n",
       "      <th>2348</th>\n",
       "      <td>Zombie-Kush</td>\n",
       "      <td>indica</td>\n",
       "      <td>5.0</td>\n",
       "      <td>Zombie Kush by Ripper Seeds comes from two dif...</td>\n",
       "      <td>Earthy</td>\n",
       "      <td>Sweet</td>\n",
       "      <td>Spicy/Herbal</td>\n",
       "      <td>NaN</td>\n",
       "      <td>Relaxed</td>\n",
       "      <td>Sleepy</td>\n",
       "      <td>Talkative</td>\n",
       "      <td>Euphoric</td>\n",
       "      <td>Happy</td>\n",
       "    </tr>\n",
       "    <tr>\n",
       "      <th>2349</th>\n",
       "      <td>Zombie-Og</td>\n",
       "      <td>indica</td>\n",
       "      <td>4.4</td>\n",
       "      <td>If you’re looking to transform into a flesh-ea...</td>\n",
       "      <td>Sweet</td>\n",
       "      <td>Earthy</td>\n",
       "      <td>Pungent</td>\n",
       "      <td>NaN</td>\n",
       "      <td>Relaxed</td>\n",
       "      <td>Sleepy</td>\n",
       "      <td>Euphoric</td>\n",
       "      <td>Happy</td>\n",
       "      <td>Hungry</td>\n",
       "    </tr>\n",
       "    <tr>\n",
       "      <th>2350</th>\n",
       "      <td>Zoom-Pie</td>\n",
       "      <td>indica</td>\n",
       "      <td>4.6</td>\n",
       "      <td>Zoom Pie (also known as Zombie Pie) is a heavy...</td>\n",
       "      <td>Berry</td>\n",
       "      <td>Earthy</td>\n",
       "      <td>Pungent</td>\n",
       "      <td>NaN</td>\n",
       "      <td>Hungry</td>\n",
       "      <td>Relaxed</td>\n",
       "      <td>Uplifted</td>\n",
       "      <td>Happy</td>\n",
       "      <td>Sleepy</td>\n",
       "    </tr>\n",
       "  </tbody>\n",
       "</table>\n",
       "<p>2351 rows × 13 columns</p>\n",
       "</div>"
      ],
      "text/plain": [
       "              Strain    Type  Rating  \\\n",
       "0             100-Og  hybrid     4.0   \n",
       "1     98-White-Widow  hybrid     4.7   \n",
       "2               1024  sativa     4.4   \n",
       "3           13-Dawgs  hybrid     4.2   \n",
       "4           24K-Gold  hybrid     4.6   \n",
       "...              ...     ...     ...   \n",
       "2346         Zeus-Og  hybrid     4.7   \n",
       "2347        Zkittlez  indica     4.6   \n",
       "2348     Zombie-Kush  indica     5.0   \n",
       "2349       Zombie-Og  indica     4.4   \n",
       "2350        Zoom-Pie  indica     4.6   \n",
       "\n",
       "                                            Description      flavor_1  \\\n",
       "0     $100 OG is a 50/50 hybrid strain that packs a ...        Earthy   \n",
       "1     The ‘98 Aloha White Widow is an especially pot...       Flowery   \n",
       "2     1024 is a sativa-dominant hybrid bred in Spain...  Spicy/Herbal   \n",
       "3     13 Dawgs is a hybrid of G13 and Chemdawg genet...       Apricot   \n",
       "4     Also known as Kosher Tangie, 24k Gold is a 60%...        Citrus   \n",
       "...                                                 ...           ...   \n",
       "2346  Zeus OG is a hybrid cross between Pineapple OG...        Earthy   \n",
       "2347  Zkittlez is an indica-dominant mix of Grape Ap...         Sweet   \n",
       "2348  Zombie Kush by Ripper Seeds comes from two dif...        Earthy   \n",
       "2349  If you’re looking to transform into a flesh-ea...         Sweet   \n",
       "2350  Zoom Pie (also known as Zombie Pie) is a heavy...         Berry   \n",
       "\n",
       "     flavor_2      flavor_3 flavor_4  effect_1   effect_2   effect_3  \\\n",
       "0       Sweet        Citrus      NaN  Creative  Energetic     Tingly   \n",
       "1      Violet        Diesel      NaN   Relaxed    Aroused   Creative   \n",
       "2        Sage         Woody      NaN  Uplifted      Happy    Relaxed   \n",
       "3      Citrus    Grapefruit      NaN    Tingly   Creative     Hungry   \n",
       "4      Earthy        Orange      NaN     Happy    Relaxed   Euphoric   \n",
       "...       ...           ...      ...       ...        ...        ...   \n",
       "2346    Woody          Pine      NaN     Happy   Uplifted    Relaxed   \n",
       "2347    Berry         Grape      NaN   Relaxed      Happy   Euphoric   \n",
       "2348    Sweet  Spicy/Herbal      NaN   Relaxed     Sleepy  Talkative   \n",
       "2349   Earthy       Pungent      NaN   Relaxed     Sleepy   Euphoric   \n",
       "2350   Earthy       Pungent      NaN    Hungry    Relaxed   Uplifted   \n",
       "\n",
       "       effect_4   effect_5  \n",
       "0      Euphoric    Relaxed  \n",
       "1         Happy  Energetic  \n",
       "2     Energetic   Creative  \n",
       "3       Relaxed   Uplifted  \n",
       "4      Uplifted  Talkative  \n",
       "...         ...        ...  \n",
       "2346   Euphoric  Energetic  \n",
       "2347   Uplifted     Sleepy  \n",
       "2348   Euphoric      Happy  \n",
       "2349      Happy     Hungry  \n",
       "2350      Happy     Sleepy  \n",
       "\n",
       "[2351 rows x 13 columns]"
      ]
     },
     "execution_count": 14,
     "metadata": {},
     "output_type": "execute_result"
    }
   ],
   "source": [
    "#Splitting Effects into separate columns and renaming those columns. Combining both dataframes into one \n",
    "df_effects = df.Effects.str.split('[,]').apply(pd.Series)\n",
    "df_effects = df_effects.rename(columns={0: 'effect_1', 1: 'effect_2', 2: 'effect_3', 3: 'effect_4', 4: 'effect_5',})\n",
    "df = pd.concat([df, df_effects], axis=1)\n",
    "\n",
    "#Changed names of effects\n",
    "df['effect_1'] = df['effect_1'].replace(['\\nRelaxed', 'Dry'], ['Relaxed', 'Drymouth'])\n",
    "df['effect_2'] = df['effect_2'].replace(['Uplifted\\n', ' Relaxed', 'Mouth'], ['Uplifted', 'Relaxed', 'Drymouth'])\n",
    "df['effect_3'] = df['effect_3'].replace(['Sleepy\\n', 'Happy\\n', 'Hungry\\n', 'Energentic\\n'], ['Sleepy', 'Happy', 'Hungry', 'Energetic'])\n",
    "df['effect_5'] = df['effect_5'].replace(['Euphoric\\n'], ['Euphoric'])\n",
    "\n",
    "#Dropping columns I no longer need\n",
    "df.drop(columns= ['Effects', 'Flavor'])"
   ]
  },
  {
   "cell_type": "code",
   "execution_count": 15,
   "metadata": {
    "jupyter": {
     "source_hidden": true
    }
   },
   "outputs": [],
   "source": [
    "df_effect1 = pd.get_dummies(data=df, columns=['effect_1'])\n",
    "df_effect2 = pd.get_dummies(data=df, columns=['effect_2'])\n",
    "df_effect3 = pd.get_dummies(data=df, columns=['effect_3'])\n",
    "df_effect4 = pd.get_dummies(data=df, columns=['effect_4'])\n",
    "df_effect5 = pd.get_dummies(data=df, columns=['effect_5'])"
   ]
  },
  {
   "cell_type": "code",
   "execution_count": 16,
   "metadata": {
    "jupyter": {
     "source_hidden": true
    }
   },
   "outputs": [],
   "source": [
    "#'effect_1_Aroused', 'effect_2_Aroused', 'effect_3_Aroused' 'effect_4_Aroused', 'effect_5_Aroused',\n",
    "#'effect_1_Creative', 'effect_2_Creative', 'effect_3_Creative', 'effect_4_Creative', 'effect_5_Creative',\n",
    "#'effect_1_Drymouth', 'effect_2_Drymouth',\n",
    "#'effect_1_Energetic', 'effect_2_Energetic' 'effect_3_Energetic' 'effect_4_Energetic' 'effect_5_Energetic'\n",
    "#'effect_1_Euphoric',  'effect_2_Euphoric' 'effect_3_Euphoric''effect_4_Euphoric', 'effect_5_Euphoric', \n",
    "#'effect_1_Focused', 'effect_2_Focused', 'effect_3_Focused', 'effect_4_Focused', 'effect_5_Focused',\n",
    "#'effect_1_Giggly', 'effect_2_Giggly' 'effect_3_Giggly' 'effect_4_Giggly' 'effect_5_Giggly',\n",
    "#'effect_1_Happy', 'effect_2_Happy', 'effect_3_Happy', 'effect_4_Happy', 'effect_5_Happy', \n",
    "#'effect_1_Hungry', 'effect_2_Hungry', 'effect_3_Hungry', 'effect_4_Hungry', 'effect_5_Hungry',\n",
    "#'effect_1_None', \n",
    "#'effect_1_Relaxed', 'effect_2_Relaxed','effect_3_Relaxed'  'effect_4_Relaxed', 'effect_5_Relaxed',\n",
    "#'effect_1_Sleepy', 'effect_2_Sleepy', 'effect_3_Sleepy' 'effect_4_Sleepy', 'effect_5_Sleepy',\n",
    "#'effect_1_Talkative', 'effect_2_Talkative', 'effect_3_Talkative', 'effect_4_Talkative' 'effect_5_Talkative',\n",
    "#'effect_1_Tingly', 'effect_2_Tingly', 'effect_3_Tingly',  'effect_4_Tingly', 'effect_5_Tingly',\n",
    "#'effect_1_Uplifted', 'effect_2_Uplifted', 'effect_3_Uplifted', 'effect_4_Uplifted', 'effect_5_Uplifted'\n",
    "\n",
    "   "
   ]
  },
  {
   "cell_type": "code",
   "execution_count": 17,
   "metadata": {
    "collapsed": true,
    "jupyter": {
     "outputs_hidden": true,
     "source_hidden": true
    }
   },
   "outputs": [
    {
     "data": {
      "text/plain": [
       "Index(['Strain', 'Type', 'Rating', 'Effects', 'Flavor', 'Description',\n",
       "       'flavor_1', 'flavor_2', 'flavor_3', 'flavor_4', 'effect_2', 'effect_3',\n",
       "       'effect_4', 'effect_5', 'effect_1_Aroused', 'effect_1_Creative',\n",
       "       'effect_1_Drymouth', 'effect_1_Energetic', 'effect_1_Euphoric',\n",
       "       'effect_1_Focused', 'effect_1_Giggly', 'effect_1_Happy',\n",
       "       'effect_1_Hungry', 'effect_1_None', 'effect_1_Relaxed',\n",
       "       'effect_1_Sleepy', 'effect_1_Talkative', 'effect_1_Tingly',\n",
       "       'effect_1_Uplifted'],\n",
       "      dtype='object')"
      ]
     },
     "execution_count": 17,
     "metadata": {},
     "output_type": "execute_result"
    }
   ],
   "source": [
    "df_effect1.columns"
   ]
  },
  {
   "cell_type": "code",
   "execution_count": 18,
   "metadata": {
    "collapsed": true,
    "jupyter": {
     "outputs_hidden": true,
     "source_hidden": true
    }
   },
   "outputs": [
    {
     "data": {
      "text/plain": [
       "Index(['Strain', 'Type', 'Rating', 'Effects', 'Flavor', 'Description',\n",
       "       'flavor_1', 'flavor_2', 'flavor_3', 'flavor_4', 'effect_1', 'effect_3',\n",
       "       'effect_4', 'effect_5', 'effect_2_Aroused', 'effect_2_Creative',\n",
       "       'effect_2_Drymouth', 'effect_2_Energetic', 'effect_2_Euphoric',\n",
       "       'effect_2_Focused', 'effect_2_Giggly', 'effect_2_Happy',\n",
       "       'effect_2_Hungry', 'effect_2_Relaxed', 'effect_2_Sleepy',\n",
       "       'effect_2_Talkative', 'effect_2_Tingly', 'effect_2_Uplifted'],\n",
       "      dtype='object')"
      ]
     },
     "execution_count": 18,
     "metadata": {},
     "output_type": "execute_result"
    }
   ],
   "source": [
    "df_effect2.columns"
   ]
  },
  {
   "cell_type": "code",
   "execution_count": 19,
   "metadata": {
    "collapsed": true,
    "jupyter": {
     "outputs_hidden": true,
     "source_hidden": true
    }
   },
   "outputs": [
    {
     "data": {
      "text/plain": [
       "Index(['Strain', 'Type', 'Rating', 'Effects', 'Flavor', 'Description',\n",
       "       'flavor_1', 'flavor_2', 'flavor_3', 'flavor_4', 'effect_1', 'effect_2',\n",
       "       'effect_4', 'effect_5', 'effect_3_Aroused', 'effect_3_Creative',\n",
       "       'effect_3_Energetic', 'effect_3_Euphoric', 'effect_3_Focused',\n",
       "       'effect_3_Giggly', 'effect_3_Happy', 'effect_3_Hungry',\n",
       "       'effect_3_Relaxed', 'effect_3_Sleepy', 'effect_3_Talkative',\n",
       "       'effect_3_Tingly', 'effect_3_Uplifted'],\n",
       "      dtype='object')"
      ]
     },
     "execution_count": 19,
     "metadata": {},
     "output_type": "execute_result"
    }
   ],
   "source": [
    "df_effect3.columns"
   ]
  },
  {
   "cell_type": "code",
   "execution_count": 20,
   "metadata": {
    "collapsed": true,
    "jupyter": {
     "outputs_hidden": true,
     "source_hidden": true
    }
   },
   "outputs": [
    {
     "data": {
      "text/plain": [
       "Index(['Strain', 'Type', 'Rating', 'Effects', 'Flavor', 'Description',\n",
       "       'flavor_1', 'flavor_2', 'flavor_3', 'flavor_4', 'effect_1', 'effect_2',\n",
       "       'effect_3', 'effect_5', 'effect_4_Aroused', 'effect_4_Creative',\n",
       "       'effect_4_Energetic', 'effect_4_Euphoric', 'effect_4_Focused',\n",
       "       'effect_4_Giggly', 'effect_4_Happy', 'effect_4_Hungry',\n",
       "       'effect_4_Relaxed', 'effect_4_Sleepy', 'effect_4_Talkative',\n",
       "       'effect_4_Tingly', 'effect_4_Uplifted'],\n",
       "      dtype='object')"
      ]
     },
     "execution_count": 20,
     "metadata": {},
     "output_type": "execute_result"
    }
   ],
   "source": [
    "df_effect4.columns"
   ]
  },
  {
   "cell_type": "code",
   "execution_count": 21,
   "metadata": {
    "collapsed": true,
    "jupyter": {
     "outputs_hidden": true,
     "source_hidden": true
    }
   },
   "outputs": [
    {
     "data": {
      "text/plain": [
       "Index(['Strain', 'Type', 'Rating', 'Effects', 'Flavor', 'Description',\n",
       "       'flavor_1', 'flavor_2', 'flavor_3', 'flavor_4', 'effect_1', 'effect_2',\n",
       "       'effect_3', 'effect_4', 'effect_5_Aroused', 'effect_5_Creative',\n",
       "       'effect_5_Energetic', 'effect_5_Euphoric', 'effect_5_Focused',\n",
       "       'effect_5_Giggly', 'effect_5_Happy', 'effect_5_Hungry',\n",
       "       'effect_5_Relaxed', 'effect_5_Sleepy', 'effect_5_Talkative',\n",
       "       'effect_5_Tingly', 'effect_5_Uplifted'],\n",
       "      dtype='object')"
      ]
     },
     "execution_count": 21,
     "metadata": {},
     "output_type": "execute_result"
    }
   ],
   "source": [
    "df_effect5.columns"
   ]
  },
  {
   "cell_type": "code",
   "execution_count": 22,
   "metadata": {
    "collapsed": true,
    "jupyter": {
     "outputs_hidden": true,
     "source_hidden": true
    }
   },
   "outputs": [
    {
     "data": {
      "text/html": [
       "<div>\n",
       "<style scoped>\n",
       "    .dataframe tbody tr th:only-of-type {\n",
       "        vertical-align: middle;\n",
       "    }\n",
       "\n",
       "    .dataframe tbody tr th {\n",
       "        vertical-align: top;\n",
       "    }\n",
       "\n",
       "    .dataframe thead th {\n",
       "        text-align: right;\n",
       "    }\n",
       "</style>\n",
       "<table border=\"1\" class=\"dataframe\">\n",
       "  <thead>\n",
       "    <tr style=\"text-align: right;\">\n",
       "      <th></th>\n",
       "      <th>Strain</th>\n",
       "      <th>Type</th>\n",
       "      <th>Rating</th>\n",
       "      <th>Effects</th>\n",
       "      <th>Flavor</th>\n",
       "      <th>Description</th>\n",
       "      <th>flavor_1</th>\n",
       "      <th>flavor_2</th>\n",
       "      <th>flavor_3</th>\n",
       "      <th>flavor_4</th>\n",
       "      <th>effect_1</th>\n",
       "      <th>effect_2</th>\n",
       "      <th>effect_3</th>\n",
       "      <th>effect_4</th>\n",
       "      <th>effect_5</th>\n",
       "    </tr>\n",
       "  </thead>\n",
       "  <tbody>\n",
       "    <tr>\n",
       "      <th>0</th>\n",
       "      <td>100-Og</td>\n",
       "      <td>hybrid</td>\n",
       "      <td>4.0</td>\n",
       "      <td>Creative,Energetic,Tingly,Euphoric,Relaxed</td>\n",
       "      <td>Earthy,Sweet,Citrus</td>\n",
       "      <td>$100 OG is a 50/50 hybrid strain that packs a ...</td>\n",
       "      <td>Earthy</td>\n",
       "      <td>Sweet</td>\n",
       "      <td>Citrus</td>\n",
       "      <td>NaN</td>\n",
       "      <td>Creative</td>\n",
       "      <td>Energetic</td>\n",
       "      <td>Tingly</td>\n",
       "      <td>Euphoric</td>\n",
       "      <td>Relaxed</td>\n",
       "    </tr>\n",
       "    <tr>\n",
       "      <th>1</th>\n",
       "      <td>98-White-Widow</td>\n",
       "      <td>hybrid</td>\n",
       "      <td>4.7</td>\n",
       "      <td>Relaxed,Aroused,Creative,Happy,Energetic</td>\n",
       "      <td>Flowery,Violet,Diesel</td>\n",
       "      <td>The ‘98 Aloha White Widow is an especially pot...</td>\n",
       "      <td>Flowery</td>\n",
       "      <td>Violet</td>\n",
       "      <td>Diesel</td>\n",
       "      <td>NaN</td>\n",
       "      <td>Relaxed</td>\n",
       "      <td>Aroused</td>\n",
       "      <td>Creative</td>\n",
       "      <td>Happy</td>\n",
       "      <td>Energetic</td>\n",
       "    </tr>\n",
       "    <tr>\n",
       "      <th>2</th>\n",
       "      <td>1024</td>\n",
       "      <td>sativa</td>\n",
       "      <td>4.4</td>\n",
       "      <td>Uplifted,Happy,Relaxed,Energetic,Creative</td>\n",
       "      <td>Spicy/Herbal,Sage,Woody</td>\n",
       "      <td>1024 is a sativa-dominant hybrid bred in Spain...</td>\n",
       "      <td>Spicy/Herbal</td>\n",
       "      <td>Sage</td>\n",
       "      <td>Woody</td>\n",
       "      <td>NaN</td>\n",
       "      <td>Uplifted</td>\n",
       "      <td>Happy</td>\n",
       "      <td>Relaxed</td>\n",
       "      <td>Energetic</td>\n",
       "      <td>Creative</td>\n",
       "    </tr>\n",
       "    <tr>\n",
       "      <th>3</th>\n",
       "      <td>13-Dawgs</td>\n",
       "      <td>hybrid</td>\n",
       "      <td>4.2</td>\n",
       "      <td>Tingly,Creative,Hungry,Relaxed,Uplifted</td>\n",
       "      <td>Apricot,Citrus,Grapefruit</td>\n",
       "      <td>13 Dawgs is a hybrid of G13 and Chemdawg genet...</td>\n",
       "      <td>Apricot</td>\n",
       "      <td>Citrus</td>\n",
       "      <td>Grapefruit</td>\n",
       "      <td>NaN</td>\n",
       "      <td>Tingly</td>\n",
       "      <td>Creative</td>\n",
       "      <td>Hungry</td>\n",
       "      <td>Relaxed</td>\n",
       "      <td>Uplifted</td>\n",
       "    </tr>\n",
       "    <tr>\n",
       "      <th>4</th>\n",
       "      <td>24K-Gold</td>\n",
       "      <td>hybrid</td>\n",
       "      <td>4.6</td>\n",
       "      <td>Happy,Relaxed,Euphoric,Uplifted,Talkative</td>\n",
       "      <td>Citrus,Earthy,Orange</td>\n",
       "      <td>Also known as Kosher Tangie, 24k Gold is a 60%...</td>\n",
       "      <td>Citrus</td>\n",
       "      <td>Earthy</td>\n",
       "      <td>Orange</td>\n",
       "      <td>NaN</td>\n",
       "      <td>Happy</td>\n",
       "      <td>Relaxed</td>\n",
       "      <td>Euphoric</td>\n",
       "      <td>Uplifted</td>\n",
       "      <td>Talkative</td>\n",
       "    </tr>\n",
       "  </tbody>\n",
       "</table>\n",
       "</div>"
      ],
      "text/plain": [
       "           Strain    Type  Rating                                     Effects  \\\n",
       "0          100-Og  hybrid     4.0  Creative,Energetic,Tingly,Euphoric,Relaxed   \n",
       "1  98-White-Widow  hybrid     4.7    Relaxed,Aroused,Creative,Happy,Energetic   \n",
       "2            1024  sativa     4.4   Uplifted,Happy,Relaxed,Energetic,Creative   \n",
       "3        13-Dawgs  hybrid     4.2     Tingly,Creative,Hungry,Relaxed,Uplifted   \n",
       "4        24K-Gold  hybrid     4.6   Happy,Relaxed,Euphoric,Uplifted,Talkative   \n",
       "\n",
       "                      Flavor  \\\n",
       "0        Earthy,Sweet,Citrus   \n",
       "1      Flowery,Violet,Diesel   \n",
       "2    Spicy/Herbal,Sage,Woody   \n",
       "3  Apricot,Citrus,Grapefruit   \n",
       "4       Citrus,Earthy,Orange   \n",
       "\n",
       "                                         Description      flavor_1 flavor_2  \\\n",
       "0  $100 OG is a 50/50 hybrid strain that packs a ...        Earthy    Sweet   \n",
       "1  The ‘98 Aloha White Widow is an especially pot...       Flowery   Violet   \n",
       "2  1024 is a sativa-dominant hybrid bred in Spain...  Spicy/Herbal     Sage   \n",
       "3  13 Dawgs is a hybrid of G13 and Chemdawg genet...       Apricot   Citrus   \n",
       "4  Also known as Kosher Tangie, 24k Gold is a 60%...        Citrus   Earthy   \n",
       "\n",
       "     flavor_3 flavor_4  effect_1   effect_2  effect_3   effect_4   effect_5  \n",
       "0      Citrus      NaN  Creative  Energetic    Tingly   Euphoric    Relaxed  \n",
       "1      Diesel      NaN   Relaxed    Aroused  Creative      Happy  Energetic  \n",
       "2       Woody      NaN  Uplifted      Happy   Relaxed  Energetic   Creative  \n",
       "3  Grapefruit      NaN    Tingly   Creative    Hungry    Relaxed   Uplifted  \n",
       "4      Orange      NaN     Happy    Relaxed  Euphoric   Uplifted  Talkative  "
      ]
     },
     "execution_count": 22,
     "metadata": {},
     "output_type": "execute_result"
    }
   ],
   "source": [
    "df.head()"
   ]
  },
  {
   "cell_type": "code",
   "execution_count": null,
   "metadata": {},
   "outputs": [],
   "source": []
  }
 ],
 "metadata": {
  "kernelspec": {
   "display_name": "Python 3",
   "language": "python",
   "name": "python3"
  },
  "language_info": {
   "codemirror_mode": {
    "name": "ipython",
    "version": 3
   },
   "file_extension": ".py",
   "mimetype": "text/x-python",
   "name": "python",
   "nbconvert_exporter": "python",
   "pygments_lexer": "ipython3",
   "version": "3.6.12"
  }
 },
 "nbformat": 4,
 "nbformat_minor": 4
}
